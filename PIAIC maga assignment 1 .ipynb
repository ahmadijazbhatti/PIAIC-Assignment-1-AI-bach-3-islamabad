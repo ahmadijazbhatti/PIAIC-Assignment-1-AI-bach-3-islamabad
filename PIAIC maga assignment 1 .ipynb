{
 "cells": [
  {
   "cell_type": "markdown",
   "metadata": {},
   "source": [
    "# Q#1"
   ]
  },
  {
   "cell_type": "raw",
   "metadata": {},
   "source": [
    " Which of the following terms are related to dictionaries?\n",
    "    a. value (correct)\n",
    "    b. item \n",
    "    c. index\n",
    "    d. key (correct)"
   ]
  },
  {
   "cell_type": "markdown",
   "metadata": {},
   "source": [
    "# Q#2"
   ]
  },
  {
   "cell_type": "raw",
   "metadata": {},
   "source": [
    "2. Just like lists, + operator is used to extend dictionaries?\n",
    "    a. True\n",
    "    b. False (correct)"
   ]
  },
  {
   "cell_type": "markdown",
   "metadata": {},
   "source": [
    "# Q#3"
   ]
  },
  {
   "cell_type": "raw",
   "metadata": {},
   "source": [
    "3. To access items from a dictionary, we specify the index of that item within [] like myDict[0]?\n",
    "    a. True\n",
    "    b. False (correct)"
   ]
  },
  {
   "cell_type": "markdown",
   "metadata": {},
   "source": [
    "# Q#4"
   ]
  },
  {
   "cell_type": "raw",
   "metadata": {},
   "source": [
    "4. When we use [] to access the value from a dictionary which does not exist in that dictionary….?\n",
    "    a. Value within [] is added to the dictionary (correct)\n",
    "    b. Value None is returned\n",
    "    c. New dictionary is created\n",
    "    d. None of above"
   ]
  },
  {
   "cell_type": "markdown",
   "metadata": {},
   "source": [
    "# Q#5"
   ]
  },
  {
   "cell_type": "raw",
   "metadata": {},
   "source": [
    "5. What does return the pop method of a dictionary?\n",
    "    a. list\n",
    "    b. tuple containing the pair of last item of the dictionary\n",
    "    c. dictionary\n",
    "    d. value of the key, if it exists in the dictionary (correct)"
   ]
  },
  {
   "cell_type": "markdown",
   "metadata": {},
   "source": [
    "# Q#6"
   ]
  },
  {
   "cell_type": "raw",
   "metadata": {},
   "source": [
    "6. What does return popitem method return?\n",
    "    a. dictionary\n",
    "    b. tupple containing the pair of last item of the dictionary\n",
    "    c. list\n",
    "    d. value of key, if it exists in the dictionary (correct)"
   ]
  },
  {
   "cell_type": "markdown",
   "metadata": {},
   "source": [
    "# Q#7"
   ]
  },
  {
   "cell_type": "raw",
   "metadata": {},
   "source": [
    "7. Which of the following 2 methods can be used to iterate through the items of a dictionary?\n",
    "    a. items()\n",
    "    b. values() (correct)\n",
    "    c. indexes()\n",
    "    d. keys() (correct)"
   ]
  },
  {
   "cell_type": "markdown",
   "metadata": {},
   "source": [
    "# Q#8"
   ]
  },
  {
   "cell_type": "raw",
   "metadata": {},
   "source": [
    "8. Which one of the following is used to enclose a dictionary?\n",
    "    a. () parenthesis\n",
    "    b. {} curly brackets (correct)\n",
    "    c. [] square brackets\n",
    "    d. “” quotation marks"
   ]
  },
  {
   "cell_type": "markdown",
   "metadata": {},
   "source": [
    "# Q#9"
   ]
  },
  {
   "cell_type": "code",
   "execution_count": 2,
   "metadata": {},
   "outputs": [],
   "source": [
    "# Dictionary of student\n",
    "student = {\"Name\":\"Ahmad Ijaz Farooq\",\"Father Name\":\"Ijaz Ahmad\",\"Course\":\"AIC\"}      "
   ]
  },
  {
   "cell_type": "code",
   "execution_count": 3,
   "metadata": {},
   "outputs": [
    {
     "data": {
      "text/plain": [
       "'Ahmad Ijaz Farooq'"
      ]
     },
     "execution_count": 3,
     "metadata": {},
     "output_type": "execute_result"
    }
   ],
   "source": [
    "# Get student name from dictionary by it key\n",
    "student[\"Name\"]"
   ]
  },
  {
   "cell_type": "markdown",
   "metadata": {},
   "source": [
    "# Q#10"
   ]
  },
  {
   "cell_type": "code",
   "execution_count": 35,
   "metadata": {},
   "outputs": [],
   "source": [
    "# Function that return word frequency\n",
    "def word_frequency(str):\n",
    "    split_str = str.split()  #split the string into word\n",
    "    unique_word_list = []    \n",
    "    \n",
    "    # This loop for extract unique word from string\n",
    "    for word in split_str:\n",
    "        if word not in unique_word_list:    \n",
    "            unique_word_list.append(word)\n",
    "    \n",
    "    \n",
    "    word_freq_dict = {}\n",
    "    \n",
    "    #This loop for convert unique word to dictionary key and value of thekey is word frequency\n",
    "    for i in range(0, len(unique_word_list)):\n",
    "        word_freq_dict[unique_word_list[i]] = split_str.count(unique_word_list[i])\n",
    "    \n",
    "    return word_freq_dict   # return the dictionary of word frequency in string\n",
    "    \n",
    "    "
   ]
  },
  {
   "cell_type": "code",
   "execution_count": 36,
   "metadata": {},
   "outputs": [
    {
     "name": "stdout",
     "output_type": "stream",
     "text": [
      "{'it': 4, 'was': 4, 'the': 4, 'best': 1, 'of': 4, 'times': 2, 'worst': 1, 'age': 2, 'wisdom': 1, 'foolishness': 1}\n"
     ]
    }
   ],
   "source": [
    "word_freq = word_frequency(\"it was the best of times it was the worst of times it was the age of wisdom it was the age of foolishness\")\n",
    "print(word_freq)"
   ]
  },
  {
   "cell_type": "markdown",
   "metadata": {},
   "source": [
    "# Q#11"
   ]
  },
  {
   "cell_type": "raw",
   "metadata": {},
   "source": [
    "X = ['Feb', 'Apr', 'Mar', 'May', 'Jun', 'Jul', 'Aug', 'Jan'] What will be output of following?\n",
    "\n",
    "X[0:3]      Ans: ['Feb', 'Apr', 'Mar']\n",
    "\n",
    "X[2:8]      Ans: ['Mar', 'May', 'Jun', 'Jul', 'Aug', 'Jan'] \n",
    "\n",
    "X[4:9]      Ans: ['Jun', 'Jul', 'Aug', 'Jan']\n",
    "\n",
    "X[1:7:2]    Ans: ['Apr', 'May', 'Jul']\n",
    "\n",
    "X[-1:-7]    Ans: []\n",
    "\n",
    "X[-7:7]     Ans: ['Apr', 'Mar', 'May', 'Jun', 'Jul', 'Aug']\n",
    "\n",
    "X[-1:-8:-2] Ans: ['Jan', 'Jul', 'May', 'Apr']\n",
    "\n",
    "X[:4]       Ans: ['Feb', 'Apr', 'Mar', 'May']"
   ]
  },
  {
   "cell_type": "markdown",
   "metadata": {},
   "source": [
    "# Q#12"
   ]
  },
  {
   "cell_type": "raw",
   "metadata": {},
   "source": [
    " Remove the correct number from the list X\n",
    "    X = [ 9,2,8,4,5]\n",
    "    X__?__\n",
    "    print (X)\n",
    "    Output: [2,8,4,5]\n",
    "    1) .delete(9) \n",
    "    2) .rm(9) \n",
    "    3) .remove(9) (correct)"
   ]
  },
  {
   "cell_type": "markdown",
   "metadata": {},
   "source": [
    "# Q#13"
   ]
  },
  {
   "cell_type": "raw",
   "metadata": {},
   "source": [
    " p = 3\n",
    " q = 'hello! '\n",
    "    print( q __?__ p)\n",
    "    hello! hello! hello!\n",
    "    1) * (correct)\n",
    "    2) **\n",
    "    3) +"
   ]
  },
  {
   "cell_type": "markdown",
   "metadata": {},
   "source": [
    "# Q#14"
   ]
  },
  {
   "cell_type": "raw",
   "metadata": {},
   "source": [
    " y = \"this is a random sentence\"\n",
    " print (y__?__)\n",
    " Output: THIS IS A RANDOM SENTENCE\n",
    "    1) .upper() (correct)\n",
    "    2) .upcase()\n",
    "    3) .capitalize()"
   ]
  },
  {
   "cell_type": "markdown",
   "metadata": {},
   "source": [
    "# Q#15  What will be output?"
   ]
  },
  {
   "cell_type": "code",
   "execution_count": 37,
   "metadata": {},
   "outputs": [
    {
     "name": "stdout",
     "output_type": "stream",
     "text": [
      "<class 'bool'>\n",
      "<class 'str'>\n",
      "<class 'int'>\n",
      "<class 'float'>\n"
     ]
    }
   ],
   "source": [
    "p = True\n",
    "q = 'True'\n",
    "r = 2\n",
    "e = 2.0\n",
    "print(type(p))\n",
    "print(type(q))\n",
    "print(type(r))\n",
    "print(type(e))"
   ]
  },
  {
   "cell_type": "markdown",
   "metadata": {},
   "source": [
    "# Q#16"
   ]
  },
  {
   "cell_type": "raw",
   "metadata": {},
   "source": [
    " What are the optional arguments to the function?\n",
    " function_1(R1, q, p=None, R2= None)\n",
    "    1) q and R2\n",
    "    2) p and R2 (correct)\n",
    "    3) p and R1\n",
    "    4) R1 and q"
   ]
  },
  {
   "cell_type": "markdown",
   "metadata": {},
   "source": [
    "# Q#17"
   ]
  },
  {
   "cell_type": "raw",
   "metadata": {},
   "source": [
    " Which command invokes method X() of the object p?\n",
    "    1) X(p)\n",
    "    2) p$x()\n",
    "    3) X().p\n",
    "    4) p.x() (correct)"
   ]
  },
  {
   "cell_type": "markdown",
   "metadata": {},
   "source": [
    "# Q#18"
   ]
  },
  {
   "cell_type": "code",
   "execution_count": 38,
   "metadata": {},
   "outputs": [
    {
     "name": "stdout",
     "output_type": "stream",
     "text": [
      "0\n",
      "2.0\n",
      "2\n",
      "2\n"
     ]
    }
   ],
   "source": [
    "x = 4\n",
    "y = 2\n",
    "print(x%y)\n",
    "print(x/y)\n",
    "print(x//y)\n",
    "print(y%x)"
   ]
  },
  {
   "cell_type": "markdown",
   "metadata": {},
   "source": [
    "# Q#19"
   ]
  },
  {
   "cell_type": "markdown",
   "metadata": {},
   "source": [
    "# A)"
   ]
  },
  {
   "cell_type": "code",
   "execution_count": 39,
   "metadata": {},
   "outputs": [
    {
     "name": "stdout",
     "output_type": "stream",
     "text": [
      "4\n",
      "1\n",
      "1\n",
      "5\n",
      "9\n",
      "0\n"
     ]
    }
   ],
   "source": [
    "x = [[4,1,1],[5,9,0]]\n",
    "for i in range(len(x)):\n",
    "    for j in range(len(x[i])):\n",
    "        print(x[i][j],sep='\\n')"
   ]
  },
  {
   "cell_type": "markdown",
   "metadata": {},
   "source": [
    "# B)"
   ]
  },
  {
   "cell_type": "code",
   "execution_count": 40,
   "metadata": {},
   "outputs": [
    {
     "name": "stdout",
     "output_type": "stream",
     "text": [
      "[[4, 5], [1, 9], [1, 0]]\n"
     ]
    }
   ],
   "source": [
    "x = [[4,1,1],[5,9,0]]\n",
    "tran = [[x[j][i] for j in range(len(x))] for i in range(len(x[0]))]\n",
    "print(tran)"
   ]
  },
  {
   "cell_type": "markdown",
   "metadata": {},
   "source": [
    "# C)"
   ]
  },
  {
   "cell_type": "code",
   "execution_count": 41,
   "metadata": {},
   "outputs": [
    {
     "name": "stdout",
     "output_type": "stream",
     "text": [
      "[4, 1, 1, 5, 9, 0]\n"
     ]
    }
   ],
   "source": [
    "x = [[4,1,1],[5,9,0]]\n",
    "x1 = []\n",
    "for i in range(len(x)):\n",
    "    for j in range(len(x[i])):\n",
    "        x1.append(x[i][j])\n",
    "print(x1)"
   ]
  },
  {
   "cell_type": "markdown",
   "metadata": {},
   "source": [
    "# D)"
   ]
  },
  {
   "cell_type": "code",
   "execution_count": 42,
   "metadata": {},
   "outputs": [
    {
     "name": "stdout",
     "output_type": "stream",
     "text": [
      "4 1 1 \n",
      "5 9 0 \n"
     ]
    }
   ],
   "source": [
    "x = [[4,1,1],[5,9,0]]\n",
    "for i in range(len(x)):\n",
    "    for j in range(len(x[i])):\n",
    "        print(x[i][j], end=\" \")\n",
    "    print()"
   ]
  },
  {
   "cell_type": "markdown",
   "metadata": {},
   "source": [
    "# Q#20"
   ]
  },
  {
   "cell_type": "raw",
   "metadata": {},
   "source": [
    " q = [10.62, 16.14, 6.45, 17.11]\n",
    " for __?__, z in enumerate (q) :\n",
    "    print( ‘Item ‘ + str( j ) + ‘ - ‘, str ( z ))\n",
    " Output: Item 0 – 10.62\n",
    " Item 1 – 16.14\n",
    " Item 2 – 6.45\n",
    " Item 3 – 17.11\n",
    "\n",
    "    1) z\n",
    "    2) i\n",
    "    3) j (correct)\n",
    "    4) x\n",
    "    5) k\n",
    "    6) y"
   ]
  },
  {
   "cell_type": "markdown",
   "metadata": {},
   "source": [
    "# Q#21"
   ]
  },
  {
   "cell_type": "raw",
   "metadata": {},
   "source": [
    " Which of these about a dictionary is false?\n",
    "    a) The values of a dictionary can be accessed using keys\n",
    "    b) The keys of a dictionary can be accessed using values (correct)\n",
    "    c) Dictionaries aren’t ordered\n",
    "    d) Dictionaries are mutable"
   ]
  },
  {
   "cell_type": "markdown",
   "metadata": {},
   "source": [
    "# Q#22"
   ]
  },
  {
   "cell_type": "raw",
   "metadata": {},
   "source": [
    " What is the output of the following:\n",
    " D = dict()\n",
    " for i in range (3):\n",
    "     for j in range(2):\n",
    "         D[i] = j\n",
    " a. {0: 1, 1: 1, 2: 1} (correct)\n",
    " b. {1: 0, 1: 1, 1: 2}\n",
    " c. {0: 1, 1: 2, 2: 3}\n",
    " d. {1: 2, 1: 1, 1: 0}"
   ]
  },
  {
   "cell_type": "markdown",
   "metadata": {},
   "source": [
    "# Q#23"
   ]
  },
  {
   "cell_type": "raw",
   "metadata": {},
   "source": [
    " You are writing a function that increments player score in a soccer game\n",
    "     If no value is specified for points, then point must start with 1\n",
    "     If no value is specified for bonus, then bonus should be True\n",
    "    \n",
    "     01 def increment_score ( bonus , score , points ):\n",
    "    To meet the first requirement line 01 must be change to\n",
    "         def increment_score ( bonus , score , points = 1 ): (True or False)     \n",
    "    To meet the second requirement line 01 must be change to\n",
    "         def increment_score ( bonus = True , score , points = 1 ): (True or False)        \n",
    "         Once a parameter is defined with default value, any parameter to the right must also be defined \n",
    "        with default values (True or False)\n",
    "        \n",
    "    \n",
    "Ans:  1) True\n",
    "      2) True\n",
    "      3) False"
   ]
  },
  {
   "cell_type": "markdown",
   "metadata": {},
   "source": [
    "# Q#24  What will be output?"
   ]
  },
  {
   "cell_type": "code",
   "execution_count": 43,
   "metadata": {},
   "outputs": [
    {
     "name": "stdout",
     "output_type": "stream",
     "text": [
      "11.333333333333334\n"
     ]
    }
   ],
   "source": [
    "def avg ( x , y , z = 50 ):\n",
    "    adding = x + y + z\n",
    "    avg_value = adding / 3\n",
    "    return avg_value\n",
    "y = avg ( x = 5 , y = 9 , z = 20 )\n",
    "print(y)"
   ]
  },
  {
   "cell_type": "markdown",
   "metadata": {},
   "source": [
    "# Q#25 What is the output"
   ]
  },
  {
   "cell_type": "code",
   "execution_count": 58,
   "metadata": {},
   "outputs": [
    {
     "name": "stdout",
     "output_type": "stream",
     "text": [
      "name is: Ali Marks: 44.5\n"
     ]
    }
   ],
   "source": [
    "def avg ( name, *opt_values ):\n",
    "    avg_value = sum (opt_values) / len(opt_values)\n",
    "    print('name is: ' + name + 'Marks: ' + str(avg_value))\n",
    "avg ('Ali ', 5 , 9 , 20, 34, 87, 112)"
   ]
  },
  {
   "cell_type": "markdown",
   "metadata": {},
   "source": [
    "# Q#26 What is the output"
   ]
  },
  {
   "cell_type": "code",
   "execution_count": 60,
   "metadata": {},
   "outputs": [
    {
     "name": "stdout",
     "output_type": "stream",
     "text": [
      "The winner was Manchester\n",
      "The score was 1-0\n"
     ]
    }
   ],
   "source": [
    "def display_result(winner, score, **other_info):\n",
    "    print(\"The winner was \" + winner)\n",
    "    print(\"The score was \" + score)\n",
    "display_result(winner=\"Manchester\", score=\"1-0\", overtime =\"yes\", injuries=\"none\")"
   ]
  },
  {
   "cell_type": "markdown",
   "metadata": {},
   "source": [
    "# Q#27 What is the output"
   ]
  },
  {
   "cell_type": "code",
   "execution_count": 65,
   "metadata": {},
   "outputs": [
    {
     "name": "stdout",
     "output_type": "stream",
     "text": [
      "The winner was Manchester\n",
      "The score was 1-0\n",
      "{'overtime': 'yes', 'injuries': 'none'}\n"
     ]
    }
   ],
   "source": [
    "def display_result(winner,  score,**other_info):\n",
    "    print(\"The winner was \" + winner)\n",
    "    print(\"The score was \" + score)\n",
    "    print(other_info)\n",
    "display_result(winner=\"Manchester\", overtime =\"yes\", injuries=\"none\" , score=\"1-0\" )"
   ]
  },
  {
   "cell_type": "markdown",
   "metadata": {},
   "source": [
    "# Q#28"
   ]
  },
  {
   "cell_type": "raw",
   "metadata": {},
   "source": [
    " What will be the output of the following Python expression if X=123?\n",
    " print(“%06d”%X)\n",
    "    a) 123000\n",
    "    b) 000123 (correct)\n",
    "    c) 000000123\n",
    "    d) 123000000"
   ]
  },
  {
   "cell_type": "markdown",
   "metadata": {},
   "source": [
    "# Q#29"
   ]
  },
  {
   "cell_type": "raw",
   "metadata": {},
   "source": [
    " What will be the output of the following Python expression if x=22.19?\n",
    " print(\"%5.2f\"%x)\n",
    "    a) 22.1900\n",
    "    b) 22.00000\n",
    "    c) 22.19 (correct)\n",
    "    d) 22.20"
   ]
  },
  {
   "cell_type": "markdown",
   "metadata": {},
   "source": [
    "# Q#30"
   ]
  },
  {
   "cell_type": "raw",
   "metadata": {},
   "source": [
    " What will be the output of the following Python code?\n",
    " '{0:f}, {1:2f}, {2:05.2f}'.format(1.23456, 1.23456, 1.23456)\n",
    "    a) Error\n",
    "    b) ‘1.234560, 1.22345, 1.23’ \n",
    "    c) No output \n",
    "    d) ‘1.234560, 1.234560, 01.23’ (correct)"
   ]
  },
  {
   "cell_type": "markdown",
   "metadata": {},
   "source": [
    "# Q#31"
   ]
  },
  {
   "cell_type": "raw",
   "metadata": {},
   "source": [
    " Write down the output of each line after each iterations. Do multiple experiments to change values\n",
    " i = 1\n",
    " while False:\n",
    "    if i%2 == 0:\n",
    "        break\n",
    " print(i)\n",
    " i += 2\n",
    "    \n",
    "Ans: No output because condition of while is false.this statement not inter inside the while loop"
   ]
  },
  {
   "cell_type": "markdown",
   "metadata": {},
   "source": [
    "# Q#32 What is the output of iteration?"
   ]
  },
  {
   "cell_type": "code",
   "execution_count": 44,
   "metadata": {},
   "outputs": [
    {
     "name": "stdout",
     "output_type": "stream",
     "text": [
      "a a a a a a "
     ]
    }
   ],
   "source": [
    "x = \"abcdef\"\n",
    "i = \"a\"\n",
    "while i in x:\n",
    "    x = x[:-1]\n",
    "    print(i, end = \" \")"
   ]
  },
  {
   "cell_type": "markdown",
   "metadata": {},
   "source": [
    "# Q#33 What is the output of iteration"
   ]
  },
  {
   "cell_type": "code",
   "execution_count": 45,
   "metadata": {},
   "outputs": [
    {
     "name": "stdout",
     "output_type": "stream",
     "text": [
      "d\n",
      "c\n",
      "b\n",
      "a\n"
     ]
    }
   ],
   "source": [
    "for i in ''.join(reversed(list('abcd'))):\n",
    "    print (i)"
   ]
  },
  {
   "cell_type": "markdown",
   "metadata": {},
   "source": [
    "# Q#34 What is the output?"
   ]
  },
  {
   "cell_type": "code",
   "execution_count": 46,
   "metadata": {},
   "outputs": [
    {
     "name": "stdout",
     "output_type": "stream",
     "text": [
      "0\n",
      "1\n",
      "2\n",
      "3\n",
      "4\n"
     ]
    }
   ],
   "source": [
    "for i in range(10):\n",
    "    if i == 5:\n",
    "        break\n",
    "    else:\n",
    "        print(i)\n",
    "else:\n",
    "    print(\"Here\")"
   ]
  },
  {
   "cell_type": "markdown",
   "metadata": {},
   "source": [
    "# Q#35 What is the output?"
   ]
  },
  {
   "cell_type": "code",
   "execution_count": 47,
   "metadata": {},
   "outputs": [
    {
     "name": "stdout",
     "output_type": "stream",
     "text": [
      "48\n"
     ]
    }
   ],
   "source": [
    "y = 6\n",
    "z = lambda x: x * y\n",
    "print(z(8))"
   ]
  },
  {
   "cell_type": "markdown",
   "metadata": {},
   "source": [
    "# Q#36 What is the output"
   ]
  },
  {
   "cell_type": "code",
   "execution_count": 48,
   "metadata": {},
   "outputs": [
    {
     "name": "stdout",
     "output_type": "stream",
     "text": [
      "0\n"
     ]
    }
   ],
   "source": [
    "i=0\n",
    "def change(i):\n",
    "    i=i+1\n",
    "    return i\n",
    "change(1)\n",
    "print(i)"
   ]
  },
  {
   "cell_type": "markdown",
   "metadata": {},
   "source": [
    "# Q#40 What is the output"
   ]
  },
  {
   "cell_type": "code",
   "execution_count": 49,
   "metadata": {},
   "outputs": [
    {
     "name": "stdout",
     "output_type": "stream",
     "text": [
      "<class 'tuple'>\n",
      "(2, 3, 4)\n"
     ]
    }
   ],
   "source": [
    "def change(one, *two):\n",
    "    print(type(two))\n",
    "    print(two)\n",
    "change(1,2,3,4)"
   ]
  },
  {
   "cell_type": "markdown",
   "metadata": {},
   "source": [
    "# Q#41 What is the output"
   ]
  },
  {
   "cell_type": "code",
   "execution_count": 50,
   "metadata": {},
   "outputs": [
    {
     "name": "stdout",
     "output_type": "stream",
     "text": [
      "<class 'dict'>\n"
     ]
    }
   ],
   "source": [
    "def find(a, **b):\n",
    "    print(type(b))\n",
    "find('letters',A='1',B='2')"
   ]
  },
  {
   "cell_type": "markdown",
   "metadata": {},
   "source": [
    "# Q#42 What is the output"
   ]
  },
  {
   "cell_type": "code",
   "execution_count": 51,
   "metadata": {},
   "outputs": [
    {
     "name": "stdout",
     "output_type": "stream",
     "text": [
      "[0]\n",
      "[0, 1]\n",
      "[0, 1, 2]\n"
     ]
    }
   ],
   "source": [
    "def foo(i, x=[]):\n",
    "    x.append(i)\n",
    "    return x\n",
    "for i in range(3):\n",
    "    print(foo(i))"
   ]
  },
  {
   "cell_type": "markdown",
   "metadata": {},
   "source": [
    "# Q#43"
   ]
  },
  {
   "cell_type": "raw",
   "metadata": {},
   "source": [
    " Evaluate the following Python arithmetic expression: and write which segment will execute first?\n",
    " (Brackets, Exponents, Multiplication, Addition / Subtraction, Left to right rule)\n",
    " (3*(1+2)**2-(2**2)*3)\n",
    "\n",
    "Ans: 1) (1+2) and (2**2) these two segment execute first"
   ]
  },
  {
   "cell_type": "markdown",
   "metadata": {},
   "source": [
    "# Q#44"
   ]
  },
  {
   "cell_type": "raw",
   "metadata": {},
   "source": [
    " You are creating a function that manipulates a number. The function has the following requirements:\n",
    "     A float is passed into the function\n",
    "     The function must take the absolute value of the float\n",
    "     Any decimal points after the integer must be removed\n",
    "        A. math.fmod(x)\n",
    "        B. math.frexp(x)\n",
    "        C. math.floor(x) (correct)\n",
    "        D. math.ceil(x) (correct)\n",
    "        E. math.fabs(x) (correct)"
   ]
  },
  {
   "cell_type": "markdown",
   "metadata": {},
   "source": [
    "# Q#45"
   ]
  },
  {
   "cell_type": "code",
   "execution_count": 6,
   "metadata": {},
   "outputs": [
    {
     "name": "stdout",
     "output_type": "stream",
     "text": [
      "dfsd\n"
     ]
    }
   ],
   "source": [
    " You are writing code that generates a random integer with a minimum value of 5 and a maximum value of 11.\n",
    " Which two functions should you use? Each correct answer presents a complete solution. (Choose two.)\n",
    "    A. random.randint(5, 12)\n",
    "    B. random.randint(5, 11) (correct)\n",
    "    C. random.randrange(5, 12, 1) (correct)\n",
    "    D. random.randrange(5, 11, 1)"
   ]
  },
  {
   "cell_type": "markdown",
   "metadata": {},
   "source": [
    "# Q#46"
   ]
  },
  {
   "cell_type": "code",
   "execution_count": 53,
   "metadata": {},
   "outputs": [],
   "source": [
    "# This function return the grade of student by taking its marks\n",
    "def grade(marks):\n",
    "    if marks >= 90:\n",
    "        grade = 'A'\n",
    "    elif marks >=80 and marks < 90:\n",
    "        grade = 'B'\n",
    "    elif marks >=70 and marks < 80:\n",
    "        grade = 'C'\n",
    "    elif marks >=60 and marks < 70:\n",
    "        grade = 'D'\n",
    "    else:\n",
    "        grade = 'E'\n",
    "    return grade"
   ]
  },
  {
   "cell_type": "code",
   "execution_count": 54,
   "metadata": {},
   "outputs": [
    {
     "name": "stdout",
     "output_type": "stream",
     "text": [
      "Please enter your marks: 56\n",
      "E\n"
     ]
    }
   ],
   "source": [
    "marks = int(input(\"Please enter your marks: \"))\n",
    "#print(type(marks))\n",
    "print(grade(marks))"
   ]
  },
  {
   "cell_type": "code",
   "execution_count": null,
   "metadata": {},
   "outputs": [],
   "source": []
  }
 ],
 "metadata": {
  "kernelspec": {
   "display_name": "Python 3",
   "language": "python",
   "name": "python3"
  },
  "language_info": {
   "codemirror_mode": {
    "name": "ipython",
    "version": 3
   },
   "file_extension": ".py",
   "mimetype": "text/x-python",
   "name": "python",
   "nbconvert_exporter": "python",
   "pygments_lexer": "ipython3",
   "version": "3.7.4"
  }
 },
 "nbformat": 4,
 "nbformat_minor": 2
}
